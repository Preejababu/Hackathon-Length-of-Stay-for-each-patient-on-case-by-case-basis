{
 "cells": [
  {
   "cell_type": "code",
   "execution_count": 779,
   "metadata": {},
   "outputs": [],
   "source": [
    "from mpl_toolkits.mplot3d import Axes3D\n",
    "from sklearn.preprocessing import StandardScaler\n",
    "import matplotlib.pyplot as plt # plotting\n",
    "from lightgbm import LGBMClassifier\n",
    "import numpy as np # linear algebra\n",
    "import os # accessing directory structure\n",
    "import pandas as pd # data processing, CSV file I/O (e.g. pd.read_csv)\n",
    "from sklearn.model_selection import StratifiedKFold,KFold\n",
    "from sklearn.metrics import accuracy_score\n",
    "import seaborn as sns\n",
    "%matplotlib inline\n",
    "# Restrict minor warnings\n",
    "import warnings\n",
    "warnings.filterwarnings('ignore')\n",
    "import seaborn as sns; sns.set()"
   ]
  },
  {
   "cell_type": "code",
   "execution_count": 780,
   "metadata": {},
   "outputs": [],
   "source": [
    "#\n",
    "df1 = pd.read_csv(\"train.csv\")\n",
    "test = pd.read_csv(\"test.csv\")"
   ]
  },
  {
   "cell_type": "code",
   "execution_count": 781,
   "metadata": {},
   "outputs": [],
   "source": [
    "#\n",
    "\n",
    "test_file =  pd.read_csv(\"test.csv\")"
   ]
  },
  {
   "cell_type": "code",
   "execution_count": 782,
   "metadata": {},
   "outputs": [
    {
     "data": {
      "text/html": [
       "<div>\n",
       "<style scoped>\n",
       "    .dataframe tbody tr th:only-of-type {\n",
       "        vertical-align: middle;\n",
       "    }\n",
       "\n",
       "    .dataframe tbody tr th {\n",
       "        vertical-align: top;\n",
       "    }\n",
       "\n",
       "    .dataframe thead th {\n",
       "        text-align: right;\n",
       "    }\n",
       "</style>\n",
       "<table border=\"1\" class=\"dataframe\">\n",
       "  <thead>\n",
       "    <tr style=\"text-align: right;\">\n",
       "      <th></th>\n",
       "      <th>case_id</th>\n",
       "      <th>Hospital_code</th>\n",
       "      <th>Hospital_type_code</th>\n",
       "      <th>City_Code_Hospital</th>\n",
       "      <th>Hospital_region_code</th>\n",
       "      <th>Available Extra Rooms in Hospital</th>\n",
       "      <th>Department</th>\n",
       "      <th>Ward_Type</th>\n",
       "      <th>Ward_Facility_Code</th>\n",
       "      <th>Bed Grade</th>\n",
       "      <th>patientid</th>\n",
       "      <th>City_Code_Patient</th>\n",
       "      <th>Type of Admission</th>\n",
       "      <th>Severity of Illness</th>\n",
       "      <th>Visitors with Patient</th>\n",
       "      <th>Age</th>\n",
       "      <th>Admission_Deposit</th>\n",
       "      <th>Stay</th>\n",
       "    </tr>\n",
       "  </thead>\n",
       "  <tbody>\n",
       "    <tr>\n",
       "      <th>0</th>\n",
       "      <td>1</td>\n",
       "      <td>8</td>\n",
       "      <td>c</td>\n",
       "      <td>3</td>\n",
       "      <td>Z</td>\n",
       "      <td>3</td>\n",
       "      <td>radiotherapy</td>\n",
       "      <td>R</td>\n",
       "      <td>F</td>\n",
       "      <td>2.0</td>\n",
       "      <td>31397</td>\n",
       "      <td>7.0</td>\n",
       "      <td>Emergency</td>\n",
       "      <td>Extreme</td>\n",
       "      <td>2</td>\n",
       "      <td>51-60</td>\n",
       "      <td>4911.0</td>\n",
       "      <td>0-10</td>\n",
       "    </tr>\n",
       "    <tr>\n",
       "      <th>1</th>\n",
       "      <td>2</td>\n",
       "      <td>2</td>\n",
       "      <td>c</td>\n",
       "      <td>5</td>\n",
       "      <td>Z</td>\n",
       "      <td>2</td>\n",
       "      <td>radiotherapy</td>\n",
       "      <td>S</td>\n",
       "      <td>F</td>\n",
       "      <td>2.0</td>\n",
       "      <td>31397</td>\n",
       "      <td>7.0</td>\n",
       "      <td>Trauma</td>\n",
       "      <td>Extreme</td>\n",
       "      <td>2</td>\n",
       "      <td>51-60</td>\n",
       "      <td>5954.0</td>\n",
       "      <td>41-50</td>\n",
       "    </tr>\n",
       "  </tbody>\n",
       "</table>\n",
       "</div>"
      ],
      "text/plain": [
       "   case_id  Hospital_code Hospital_type_code  City_Code_Hospital  \\\n",
       "0        1              8                  c                   3   \n",
       "1        2              2                  c                   5   \n",
       "\n",
       "  Hospital_region_code  Available Extra Rooms in Hospital    Department  \\\n",
       "0                    Z                                  3  radiotherapy   \n",
       "1                    Z                                  2  radiotherapy   \n",
       "\n",
       "  Ward_Type Ward_Facility_Code  Bed Grade  patientid  City_Code_Patient  \\\n",
       "0         R                  F        2.0      31397                7.0   \n",
       "1         S                  F        2.0      31397                7.0   \n",
       "\n",
       "  Type of Admission Severity of Illness  Visitors with Patient    Age  \\\n",
       "0         Emergency             Extreme                      2  51-60   \n",
       "1            Trauma             Extreme                      2  51-60   \n",
       "\n",
       "   Admission_Deposit   Stay  \n",
       "0             4911.0   0-10  \n",
       "1             5954.0  41-50  "
      ]
     },
     "execution_count": 782,
     "metadata": {},
     "output_type": "execute_result"
    }
   ],
   "source": [
    "#\n",
    "df1 = df1.replace(to_replace =\"Nov-20\", value = \"11-20\")\n",
    "df1.head(2)"
   ]
  },
  {
   "cell_type": "code",
   "execution_count": 783,
   "metadata": {},
   "outputs": [
    {
     "data": {
      "text/plain": [
       "case_id                              318438\n",
       "Hospital_code                            32\n",
       "Hospital_type_code                        7\n",
       "City_Code_Hospital                       11\n",
       "Hospital_region_code                      3\n",
       "Available Extra Rooms in Hospital        18\n",
       "Department                                5\n",
       "Ward_Type                                 6\n",
       "Ward_Facility_Code                        6\n",
       "Bed Grade                                 4\n",
       "patientid                             92017\n",
       "City_Code_Patient                        37\n",
       "Type of Admission                         3\n",
       "Severity of Illness                       3\n",
       "Visitors with Patient                    28\n",
       "Age                                      10\n",
       "Admission_Deposit                      7300\n",
       "Stay                                     11\n",
       "dtype: int64"
      ]
     },
     "execution_count": 783,
     "metadata": {},
     "output_type": "execute_result"
    }
   ],
   "source": [
    "#\n",
    "df1.nunique()"
   ]
  },
  {
   "cell_type": "code",
   "execution_count": 784,
   "metadata": {},
   "outputs": [],
   "source": [
    "#\n",
    "from sklearn.preprocessing import LabelEncoder, StandardScaler\n",
    "\n",
    "le = LabelEncoder()\n",
    "df1['Stay'] = le.fit_transform(df1['Stay'])\n",
    "train_y =df1.Stay \n"
   ]
  },
  {
   "cell_type": "markdown",
   "metadata": {},
   "source": [
    "# Missing values in test data"
   ]
  },
  {
   "cell_type": "code",
   "execution_count": 785,
   "metadata": {},
   "outputs": [],
   "source": [
    "#\n",
    "df1.fillna(0,inplace=True)\n",
    "test.fillna(0,inplace=True)"
   ]
  },
  {
   "cell_type": "markdown",
   "metadata": {},
   "source": [
    "# Dropping Unwanted Columns"
   ]
  },
  {
   "cell_type": "code",
   "execution_count": 786,
   "metadata": {},
   "outputs": [],
   "source": [
    "#\n",
    "df1 = df1.drop('patientid', axis = 1)\n",
    "test = test.drop('patientid', axis = 1)"
   ]
  },
  {
   "cell_type": "code",
   "execution_count": 787,
   "metadata": {},
   "outputs": [],
   "source": [
    "#\n",
    "df1 = df1.drop(['case_id'], axis = 1)\n",
    "test = test.drop(['case_id'], axis = 1)"
   ]
  },
  {
   "cell_type": "code",
   "execution_count": 561,
   "metadata": {},
   "outputs": [
    {
     "data": {
      "text/plain": [
       "<matplotlib.axes._subplots.AxesSubplot at 0x162b956fb50>"
      ]
     },
     "execution_count": 561,
     "metadata": {},
     "output_type": "execute_result"
    },
    {
     "data": {
      "image/png": "[encoded data removed]",
      "text/plain": [
       "<Figure size 432x288 with 1 Axes>"
      ]
     },
     "metadata": {},
     "output_type": "display_data"
    }
   ],
   "source": [
    "sns.distplot(train_y['Stay'], hist=False, rug=True)"
   ]
  },
  {
   "cell_type": "code",
   "execution_count": 562,
   "metadata": {},
   "outputs": [
    {
     "data": {
      "image/png": "[encoded data removed]",
      "text/plain": [
       "<Figure size 432x288 with 1 Axes>"
      ]
     },
     "metadata": {},
     "output_type": "display_data"
    }
   ],
   "source": [
    "sns.distplot(train_y['Stay'], kde=False, rug=True);"
   ]
  },
  {
   "cell_type": "markdown",
   "metadata": {},
   "source": [
    "The about distplot shows the imbalance of data and the data shows left skewness\n"
   ]
  },
  {
   "cell_type": "markdown",
   "metadata": {},
   "source": [
    "Class imbalance can lead to a model over-predicting the class that occurs the most often, as simply predicting this class for most of the data instances, regardless of their features, will lead to the highest overall accuracy score.\n"
   ]
  },
  {
   "cell_type": "code",
   "execution_count": 563,
   "metadata": {},
   "outputs": [
    {
     "data": {
      "image/png": "[encoded data removed]",
      "text/plain": [
       "<Figure size 432x288 with 1 Axes>"
      ]
     },
     "metadata": {},
     "output_type": "display_data"
    }
   ],
   "source": [
    "ax = sns.boxplot(x=train_x['Ward_Type'], y=train_y['Stay'])"
   ]
  },
  {
   "cell_type": "markdown",
   "metadata": {},
   "source": [
    "## Outlier Detection\n"
   ]
  },
  {
   "cell_type": "markdown",
   "metadata": {},
   "source": [
    "###  Z-score \n",
    "The Z-score is the signed number of standard deviations by which the value of an observation or data point is above the mean value of what is being observed or measured."
   ]
  },
  {
   "cell_type": "code",
   "execution_count": 564,
   "metadata": {},
   "outputs": [],
   "source": [
    "## https://towardsdatascience.com/ways-to-detect-and-remove-the-outliers-404d16608dba\n",
    "\n",
    "\n",
    "#from scipy import stats\n",
    "#import numpy as np\n",
    "#z = np.abs(stats.zscore(train_x))\n",
    "#print(z)"
   ]
  },
  {
   "cell_type": "code",
   "execution_count": 565,
   "metadata": {},
   "outputs": [],
   "source": [
    "#threshold = 3\n",
    "#print(np.where(z > 3))"
   ]
  },
  {
   "cell_type": "markdown",
   "metadata": {},
   "source": [
    "The first array contains the list of row numbers and second array respective column numbers"
   ]
  },
  {
   "cell_type": "code",
   "execution_count": 566,
   "metadata": {},
   "outputs": [],
   "source": [
    "#print(z[10][0])"
   ]
  },
  {
   "cell_type": "code",
   "execution_count": 567,
   "metadata": {},
   "outputs": [],
   "source": [
    "#Q1 = train_x.quantile(0.25)\n",
    "#Q3 = train_x.quantile(0.75)\n",
    "#IQR = Q3 - Q1\n",
    "#print(IQR)"
   ]
  },
  {
   "cell_type": "code",
   "execution_count": 568,
   "metadata": {},
   "outputs": [],
   "source": [
    "#print(train_x < (Q1 - 1.5 * IQR)) |(train_x > (Q3 + 1.5 * IQR))"
   ]
  },
  {
   "cell_type": "markdown",
   "metadata": {},
   "source": [
    "###  Working with Outliers: Correcting, Removing"
   ]
  },
  {
   "cell_type": "code",
   "execution_count": 569,
   "metadata": {},
   "outputs": [],
   "source": [
    "# remove or filter the outliers and get the clean data using Z=score\n",
    "#train_x = train_x[(z < 3).all(axis=1)]"
   ]
  },
  {
   "cell_type": "markdown",
   "metadata": {},
   "source": [
    "Use previously calculated IQR score to filter out the outliers by keeping only valid values"
   ]
  },
  {
   "cell_type": "code",
   "execution_count": 570,
   "metadata": {},
   "outputs": [],
   "source": [
    "#train_x = train_x[~((train_x < (Q1 - 1.5 * IQR)) |(train_x > (Q3 + 1.5 * IQR))).any(axis=1)]\n",
    "#train_x.shape"
   ]
  },
  {
   "cell_type": "code",
   "execution_count": 55,
   "metadata": {},
   "outputs": [],
   "source": [
    "#ns.boxplot(x=train_x[\"Severity of Illness\"], y=train_y[\"Stay\"])"
   ]
  },
  {
   "cell_type": "markdown",
   "metadata": {},
   "source": [
    "# Model"
   ]
  },
  {
   "cell_type": "code",
   "execution_count": 788,
   "metadata": {},
   "outputs": [
    {
     "data": {
      "text/plain": [
       "Hospital_type_code                    object\n",
       "City_Code_Hospital                     int64\n",
       "Hospital_region_code                  object\n",
       "Available Extra Rooms in Hospital      int64\n",
       "Department                            object\n",
       "Ward_Type                             object\n",
       "Ward_Facility_Code                    object\n",
       "Bed Grade                            float64\n",
       "patientid                              int64\n",
       "City_Code_Patient                    float64\n",
       "Type of Admission                     object\n",
       "Severity of Illness                   object\n",
       "Visitors with Patient                  int64\n",
       "Age                                   object\n",
       "Admission_Deposit                    float64\n",
       "Stay                                   int32\n",
       "dtype: object"
      ]
     },
     "execution_count": 788,
     "metadata": {},
     "output_type": "execute_result"
    }
   ],
   "source": [
    "df1.dtypes"
   ]
  },
  {
   "cell_type": "code",
   "execution_count": 789,
   "metadata": {},
   "outputs": [],
   "source": [
    "cols = ['Hospital_type_code','City_Code_Hospital',\n",
    "       'Hospital_region_code'\n",
    "       ,'Department'\n",
    "       ,'Ward_Type',\n",
    "       'Ward_Facility_Code',\n",
    "       'Bed Grade','Type of Admission','Severity of Illness','Age']"
   ]
  },
  {
   "cell_type": "code",
   "execution_count": 790,
   "metadata": {},
   "outputs": [],
   "source": [
    "from sklearn.preprocessing import LabelEncoder\n",
    "\n",
    "for i in cols:\n",
    "    le = LabelEncoder()\n",
    "    df1[i] = le.fit_transform(train_x[i].astype('str'))\n",
    "    le = LabelEncoder()\n",
    "    test[i] = le.fit_transform(test[i].astype('str'))\n"
   ]
  },
  {
   "cell_type": "code",
   "execution_count": 791,
   "metadata": {},
   "outputs": [],
   "source": [
    "df1 = df1.drop(['Stay'], axis =1)"
   ]
  },
  {
   "cell_type": "markdown",
   "metadata": {},
   "source": [
    "## Random Forest"
   ]
  },
  {
   "cell_type": "code",
   "execution_count": 792,
   "metadata": {},
   "outputs": [],
   "source": [
    "X_train = df1\n",
    "y_train = train_y"
   ]
  },
  {
   "cell_type": "code",
   "execution_count": 793,
   "metadata": {},
   "outputs": [],
   "source": [
    "from sklearn.ensemble import RandomForestClassifier\n",
    "from sklearn.model_selection import train_test_split\n",
    "from sklearn.model_selection import GridSearchCV, RandomizedSearchCV"
   ]
  },
  {
   "cell_type": "code",
   "execution_count": 794,
   "metadata": {},
   "outputs": [],
   "source": [
    "X_data, x_test_data, y_data, y_test_data = train_test_split(X_train, y_train, test_size = 0.3)"
   ]
  },
  {
   "cell_type": "code",
   "execution_count": 795,
   "metadata": {},
   "outputs": [],
   "source": [
    "rf_para = [{'class_weight':['balanced'], 'n_estimators':[50, 100], 'max_depth':[5, 10, 15], 'max_features':[0.1, 0.3],\\\n",
    "            'min_samples_leaf':[1,3], 'bootstrap':[True, False]}]"
   ]
  },
  {
   "cell_type": "code",
   "execution_count": 796,
   "metadata": {},
   "outputs": [
    {
     "data": {
      "text/plain": [
       "GridSearchCV(cv=5, estimator=RandomForestClassifier(), n_jobs=-1,\n",
       "             param_grid=[{'bootstrap': [True, False],\n",
       "                          'class_weight': ['balanced'],\n",
       "                          'max_depth': [5, 10, 15], 'max_features': [0.1, 0.3],\n",
       "                          'min_samples_leaf': [1, 3],\n",
       "                          'n_estimators': [50, 100]}])"
      ]
     },
     "execution_count": 796,
     "metadata": {},
     "output_type": "execute_result"
    }
   ],
   "source": [
    "rfc = GridSearchCV(RandomForestClassifier(), param_grid = rf_para, cv = 5, n_jobs = -1)\n",
    "rfc.fit(X_data, y_data)"
   ]
  },
  {
   "cell_type": "code",
   "execution_count": 797,
   "metadata": {},
   "outputs": [
    {
     "data": {
      "text/plain": [
       "{'bootstrap': False,\n",
       " 'class_weight': 'balanced',\n",
       " 'max_depth': 15,\n",
       " 'max_features': 0.3,\n",
       " 'min_samples_leaf': 1,\n",
       " 'n_estimators': 100}"
      ]
     },
     "execution_count": 797,
     "metadata": {},
     "output_type": "execute_result"
    }
   ],
   "source": [
    "rfc.best_params_"
   ]
  },
  {
   "cell_type": "code",
   "execution_count": 806,
   "metadata": {},
   "outputs": [
    {
     "data": {
      "text/plain": [
       "RandomForestClassifier(bootstrap='True', class_weight='balanced', max_depth=5,\n",
       "                       max_features=0.3, min_samples_leaf=3, n_estimators=50,\n",
       "                       n_jobs=-1)"
      ]
     },
     "execution_count": 806,
     "metadata": {},
     "output_type": "execute_result"
    }
   ],
   "source": [
    "RFC = RandomForestClassifier(n_estimators=50, class_weight='balanced', max_depth=5, max_features=0.3, bootstrap='True', min_samples_leaf=3,\\\n",
    "                             n_jobs=-1)\n",
    "RFC.fit(X_train, y_train)"
   ]
  },
  {
   "cell_type": "code",
   "execution_count": 807,
   "metadata": {},
   "outputs": [
    {
     "name": "stdout",
     "output_type": "stream",
     "text": [
      "              precision    recall  f1-score   support\n",
      "\n",
      "      class1       1.00      1.00      1.00      7148\n",
      "      class2       1.00      0.98      0.99     23389\n",
      "      class3       0.98      0.97      0.98     26293\n",
      "      class4       1.00      0.79      0.88     16483\n",
      "      class5       0.57      0.85      0.68      3509\n",
      "      class6       0.74      0.81      0.77     10549\n",
      "      class7       0.86      0.76      0.81       804\n",
      "      class8       0.99      0.97      0.98      3173\n",
      "      class9       1.00      1.00      1.00      1445\n",
      "     class10       0.62      0.90      0.73       826\n",
      "     class11       0.54      0.90      0.67      1913\n",
      "\n",
      "    accuracy                           0.92     95532\n",
      "   macro avg       0.85      0.90      0.86     95532\n",
      "weighted avg       0.94      0.92      0.92     95532\n",
      "\n"
     ]
    }
   ],
   "source": [
    "from sklearn.metrics import classification_report\n",
    "Y_val_pred = RFC.predict(x_test_data)\n",
    "target = ['class1', 'class2','class3','class4','class5','class6','class7','class8', 'class9', 'class10','class11' ]\n",
    "print (classification_report(y_test_data, Y_val_pred, target_names=target))"
   ]
  },
  {
   "cell_type": "code",
   "execution_count": 70,
   "metadata": {},
   "outputs": [
    {
     "data": {
      "text/html": [
       "<div>\n",
       "<style scoped>\n",
       "    .dataframe tbody tr th:only-of-type {\n",
       "        vertical-align: middle;\n",
       "    }\n",
       "\n",
       "    .dataframe tbody tr th {\n",
       "        vertical-align: top;\n",
       "    }\n",
       "\n",
       "    .dataframe thead th {\n",
       "        text-align: right;\n",
       "    }\n",
       "</style>\n",
       "<table border=\"1\" class=\"dataframe\">\n",
       "  <thead>\n",
       "    <tr style=\"text-align: right;\">\n",
       "      <th></th>\n",
       "      <th>Hospital_type_code</th>\n",
       "      <th>City_Code_Hospital</th>\n",
       "      <th>Available Extra Rooms in Hospital</th>\n",
       "      <th>Department</th>\n",
       "      <th>Ward_Type</th>\n",
       "      <th>Ward_Facility_Code</th>\n",
       "      <th>Bed Grade</th>\n",
       "      <th>City_Code_Patient</th>\n",
       "      <th>Type of Admission</th>\n",
       "      <th>Severity of Illness</th>\n",
       "      <th>Visitors with Patient</th>\n",
       "      <th>Hospital_region_code_X</th>\n",
       "      <th>Hospital_region_code_Y</th>\n",
       "      <th>Hospital_region_code_Z</th>\n",
       "      <th>Age_lowerbound</th>\n",
       "      <th>Age_upperbound</th>\n",
       "    </tr>\n",
       "  </thead>\n",
       "  <tbody>\n",
       "    <tr>\n",
       "      <th>0</th>\n",
       "      <td>3</td>\n",
       "      <td>3</td>\n",
       "      <td>3</td>\n",
       "      <td>1</td>\n",
       "      <td>77794</td>\n",
       "      <td>6</td>\n",
       "      <td>2.0</td>\n",
       "      <td>2.0</td>\n",
       "      <td>0.0</td>\n",
       "      <td>2.0</td>\n",
       "      <td>2</td>\n",
       "      <td>0</td>\n",
       "      <td>0</td>\n",
       "      <td>1</td>\n",
       "      <td>71</td>\n",
       "      <td>80</td>\n",
       "    </tr>\n",
       "    <tr>\n",
       "      <th>1</th>\n",
       "      <td>1</td>\n",
       "      <td>4</td>\n",
       "      <td>2</td>\n",
       "      <td>1</td>\n",
       "      <td>77794</td>\n",
       "      <td>1</td>\n",
       "      <td>2.0</td>\n",
       "      <td>2.0</td>\n",
       "      <td>1.0</td>\n",
       "      <td>2.0</td>\n",
       "      <td>4</td>\n",
       "      <td>1</td>\n",
       "      <td>0</td>\n",
       "      <td>0</td>\n",
       "      <td>71</td>\n",
       "      <td>80</td>\n",
       "    </tr>\n",
       "    <tr>\n",
       "      <th>2</th>\n",
       "      <td>2</td>\n",
       "      <td>2</td>\n",
       "      <td>3</td>\n",
       "      <td>1</td>\n",
       "      <td>106165</td>\n",
       "      <td>3</td>\n",
       "      <td>4.0</td>\n",
       "      <td>2.0</td>\n",
       "      <td>0.0</td>\n",
       "      <td>2.0</td>\n",
       "      <td>3</td>\n",
       "      <td>0</td>\n",
       "      <td>1</td>\n",
       "      <td>0</td>\n",
       "      <td>71</td>\n",
       "      <td>80</td>\n",
       "    </tr>\n",
       "    <tr>\n",
       "      <th>3</th>\n",
       "      <td>1</td>\n",
       "      <td>6</td>\n",
       "      <td>3</td>\n",
       "      <td>1</td>\n",
       "      <td>106165</td>\n",
       "      <td>1</td>\n",
       "      <td>2.0</td>\n",
       "      <td>2.0</td>\n",
       "      <td>1.0</td>\n",
       "      <td>2.0</td>\n",
       "      <td>3</td>\n",
       "      <td>1</td>\n",
       "      <td>0</td>\n",
       "      <td>0</td>\n",
       "      <td>71</td>\n",
       "      <td>80</td>\n",
       "    </tr>\n",
       "    <tr>\n",
       "      <th>4</th>\n",
       "      <td>2</td>\n",
       "      <td>11</td>\n",
       "      <td>2</td>\n",
       "      <td>1</td>\n",
       "      <td>127947</td>\n",
       "      <td>1</td>\n",
       "      <td>2.0</td>\n",
       "      <td>2.0</td>\n",
       "      <td>1.0</td>\n",
       "      <td>2.0</td>\n",
       "      <td>4</td>\n",
       "      <td>1</td>\n",
       "      <td>0</td>\n",
       "      <td>0</td>\n",
       "      <td>71</td>\n",
       "      <td>80</td>\n",
       "    </tr>\n",
       "    <tr>\n",
       "      <th>...</th>\n",
       "      <td>...</td>\n",
       "      <td>...</td>\n",
       "      <td>...</td>\n",
       "      <td>...</td>\n",
       "      <td>...</td>\n",
       "      <td>...</td>\n",
       "      <td>...</td>\n",
       "      <td>...</td>\n",
       "      <td>...</td>\n",
       "      <td>...</td>\n",
       "      <td>...</td>\n",
       "      <td>...</td>\n",
       "      <td>...</td>\n",
       "      <td>...</td>\n",
       "      <td>...</td>\n",
       "      <td>...</td>\n",
       "    </tr>\n",
       "    <tr>\n",
       "      <th>137052</th>\n",
       "      <td>2</td>\n",
       "      <td>2</td>\n",
       "      <td>4</td>\n",
       "      <td>2</td>\n",
       "      <td>106165</td>\n",
       "      <td>3</td>\n",
       "      <td>3.0</td>\n",
       "      <td>3.0</td>\n",
       "      <td>0.0</td>\n",
       "      <td>1.0</td>\n",
       "      <td>4</td>\n",
       "      <td>0</td>\n",
       "      <td>1</td>\n",
       "      <td>0</td>\n",
       "      <td>41</td>\n",
       "      <td>50</td>\n",
       "    </tr>\n",
       "    <tr>\n",
       "      <th>137053</th>\n",
       "      <td>4</td>\n",
       "      <td>1</td>\n",
       "      <td>2</td>\n",
       "      <td>3</td>\n",
       "      <td>127947</td>\n",
       "      <td>2</td>\n",
       "      <td>4.0</td>\n",
       "      <td>7.0</td>\n",
       "      <td>0.0</td>\n",
       "      <td>2.0</td>\n",
       "      <td>2</td>\n",
       "      <td>1</td>\n",
       "      <td>0</td>\n",
       "      <td>0</td>\n",
       "      <td>0</td>\n",
       "      <td>10</td>\n",
       "    </tr>\n",
       "    <tr>\n",
       "      <th>137054</th>\n",
       "      <td>3</td>\n",
       "      <td>3</td>\n",
       "      <td>2</td>\n",
       "      <td>2</td>\n",
       "      <td>127947</td>\n",
       "      <td>6</td>\n",
       "      <td>4.0</td>\n",
       "      <td>12.0</td>\n",
       "      <td>2.0</td>\n",
       "      <td>1.0</td>\n",
       "      <td>2</td>\n",
       "      <td>0</td>\n",
       "      <td>0</td>\n",
       "      <td>1</td>\n",
       "      <td>0</td>\n",
       "      <td>10</td>\n",
       "    </tr>\n",
       "    <tr>\n",
       "      <th>137055</th>\n",
       "      <td>1</td>\n",
       "      <td>1</td>\n",
       "      <td>2</td>\n",
       "      <td>2</td>\n",
       "      <td>127947</td>\n",
       "      <td>2</td>\n",
       "      <td>4.0</td>\n",
       "      <td>10.0</td>\n",
       "      <td>1.0</td>\n",
       "      <td>1.0</td>\n",
       "      <td>2</td>\n",
       "      <td>1</td>\n",
       "      <td>0</td>\n",
       "      <td>0</td>\n",
       "      <td>41</td>\n",
       "      <td>50</td>\n",
       "    </tr>\n",
       "    <tr>\n",
       "      <th>137056</th>\n",
       "      <td>1</td>\n",
       "      <td>6</td>\n",
       "      <td>3</td>\n",
       "      <td>1</td>\n",
       "      <td>106165</td>\n",
       "      <td>1</td>\n",
       "      <td>4.0</td>\n",
       "      <td>3.0</td>\n",
       "      <td>1.0</td>\n",
       "      <td>0.0</td>\n",
       "      <td>5</td>\n",
       "      <td>1</td>\n",
       "      <td>0</td>\n",
       "      <td>0</td>\n",
       "      <td>51</td>\n",
       "      <td>60</td>\n",
       "    </tr>\n",
       "  </tbody>\n",
       "</table>\n",
       "<p>137057 rows × 16 columns</p>\n",
       "</div>"
      ],
      "text/plain": [
       "        Hospital_type_code  City_Code_Hospital  \\\n",
       "0                        3                   3   \n",
       "1                        1                   4   \n",
       "2                        2                   2   \n",
       "3                        1                   6   \n",
       "4                        2                  11   \n",
       "...                    ...                 ...   \n",
       "137052                   2                   2   \n",
       "137053                   4                   1   \n",
       "137054                   3                   3   \n",
       "137055                   1                   1   \n",
       "137056                   1                   6   \n",
       "\n",
       "        Available Extra Rooms in Hospital  Department  Ward_Type  \\\n",
       "0                                       3           1      77794   \n",
       "1                                       2           1      77794   \n",
       "2                                       3           1     106165   \n",
       "3                                       3           1     106165   \n",
       "4                                       2           1     127947   \n",
       "...                                   ...         ...        ...   \n",
       "137052                                  4           2     106165   \n",
       "137053                                  2           3     127947   \n",
       "137054                                  2           2     127947   \n",
       "137055                                  2           2     127947   \n",
       "137056                                  3           1     106165   \n",
       "\n",
       "        Ward_Facility_Code  Bed Grade  City_Code_Patient  Type of Admission  \\\n",
       "0                        6        2.0                2.0                0.0   \n",
       "1                        1        2.0                2.0                1.0   \n",
       "2                        3        4.0                2.0                0.0   \n",
       "3                        1        2.0                2.0                1.0   \n",
       "4                        1        2.0                2.0                1.0   \n",
       "...                    ...        ...                ...                ...   \n",
       "137052                   3        3.0                3.0                0.0   \n",
       "137053                   2        4.0                7.0                0.0   \n",
       "137054                   6        4.0               12.0                2.0   \n",
       "137055                   2        4.0               10.0                1.0   \n",
       "137056                   1        4.0                3.0                1.0   \n",
       "\n",
       "        Severity of Illness  Visitors with Patient  Hospital_region_code_X  \\\n",
       "0                       2.0                      2                       0   \n",
       "1                       2.0                      4                       1   \n",
       "2                       2.0                      3                       0   \n",
       "3                       2.0                      3                       1   \n",
       "4                       2.0                      4                       1   \n",
       "...                     ...                    ...                     ...   \n",
       "137052                  1.0                      4                       0   \n",
       "137053                  2.0                      2                       1   \n",
       "137054                  1.0                      2                       0   \n",
       "137055                  1.0                      2                       1   \n",
       "137056                  0.0                      5                       1   \n",
       "\n",
       "        Hospital_region_code_Y  Hospital_region_code_Z  Age_lowerbound  \\\n",
       "0                            0                       1              71   \n",
       "1                            0                       0              71   \n",
       "2                            1                       0              71   \n",
       "3                            0                       0              71   \n",
       "4                            0                       0              71   \n",
       "...                        ...                     ...             ...   \n",
       "137052                       1                       0              41   \n",
       "137053                       0                       0               0   \n",
       "137054                       0                       1               0   \n",
       "137055                       0                       0              41   \n",
       "137056                       0                       0              51   \n",
       "\n",
       "        Age_upperbound  \n",
       "0                   80  \n",
       "1                   80  \n",
       "2                   80  \n",
       "3                   80  \n",
       "4                   80  \n",
       "...                ...  \n",
       "137052              50  \n",
       "137053              10  \n",
       "137054              10  \n",
       "137055              50  \n",
       "137056              60  \n",
       "\n",
       "[137057 rows x 16 columns]"
      ]
     },
     "execution_count": 70,
     "metadata": {},
     "output_type": "execute_result"
    }
   ],
   "source": [
    "test"
   ]
  },
  {
   "cell_type": "code",
   "execution_count": 808,
   "metadata": {},
   "outputs": [],
   "source": [
    "Y_pred = RFC.predict(test)"
   ]
  },
  {
   "cell_type": "code",
   "execution_count": 809,
   "metadata": {},
   "outputs": [],
   "source": [
    "test_submission = pd.read_csv(\"test.csv\")"
   ]
  },
  {
   "cell_type": "code",
   "execution_count": 812,
   "metadata": {},
   "outputs": [],
   "source": [
    "solution = pd.DataFrame({'case_id':test_submission.case_id, 'Stay':Y_pred}, columns = ['case_id','Stay'])\n"
   ]
  },
  {
   "cell_type": "code",
   "execution_count": 813,
   "metadata": {},
   "outputs": [
    {
     "data": {
      "text/html": [
       "<div>\n",
       "<style scoped>\n",
       "    .dataframe tbody tr th:only-of-type {\n",
       "        vertical-align: middle;\n",
       "    }\n",
       "\n",
       "    .dataframe tbody tr th {\n",
       "        vertical-align: top;\n",
       "    }\n",
       "\n",
       "    .dataframe thead th {\n",
       "        text-align: right;\n",
       "    }\n",
       "</style>\n",
       "<table border=\"1\" class=\"dataframe\">\n",
       "  <thead>\n",
       "    <tr style=\"text-align: right;\">\n",
       "      <th></th>\n",
       "      <th>case_id</th>\n",
       "      <th>Stay</th>\n",
       "    </tr>\n",
       "  </thead>\n",
       "  <tbody>\n",
       "    <tr>\n",
       "      <th>0</th>\n",
       "      <td>318439</td>\n",
       "      <td>9</td>\n",
       "    </tr>\n",
       "    <tr>\n",
       "      <th>1</th>\n",
       "      <td>318440</td>\n",
       "      <td>9</td>\n",
       "    </tr>\n",
       "    <tr>\n",
       "      <th>2</th>\n",
       "      <td>318441</td>\n",
       "      <td>2</td>\n",
       "    </tr>\n",
       "    <tr>\n",
       "      <th>3</th>\n",
       "      <td>318442</td>\n",
       "      <td>2</td>\n",
       "    </tr>\n",
       "    <tr>\n",
       "      <th>4</th>\n",
       "      <td>318443</td>\n",
       "      <td>9</td>\n",
       "    </tr>\n",
       "    <tr>\n",
       "      <th>...</th>\n",
       "      <td>...</td>\n",
       "      <td>...</td>\n",
       "    </tr>\n",
       "    <tr>\n",
       "      <th>137052</th>\n",
       "      <td>455491</td>\n",
       "      <td>2</td>\n",
       "    </tr>\n",
       "    <tr>\n",
       "      <th>137053</th>\n",
       "      <td>455492</td>\n",
       "      <td>2</td>\n",
       "    </tr>\n",
       "    <tr>\n",
       "      <th>137054</th>\n",
       "      <td>455493</td>\n",
       "      <td>2</td>\n",
       "    </tr>\n",
       "    <tr>\n",
       "      <th>137055</th>\n",
       "      <td>455494</td>\n",
       "      <td>2</td>\n",
       "    </tr>\n",
       "    <tr>\n",
       "      <th>137056</th>\n",
       "      <td>455495</td>\n",
       "      <td>10</td>\n",
       "    </tr>\n",
       "  </tbody>\n",
       "</table>\n",
       "<p>137057 rows × 2 columns</p>\n",
       "</div>"
      ],
      "text/plain": [
       "        case_id  Stay\n",
       "0        318439     9\n",
       "1        318440     9\n",
       "2        318441     2\n",
       "3        318442     2\n",
       "4        318443     9\n",
       "...         ...   ...\n",
       "137052   455491     2\n",
       "137053   455492     2\n",
       "137054   455493     2\n",
       "137055   455494     2\n",
       "137056   455495    10\n",
       "\n",
       "[137057 rows x 2 columns]"
      ]
     },
     "execution_count": 813,
     "metadata": {},
     "output_type": "execute_result"
    }
   ],
   "source": [
    "solution"
   ]
  },
  {
   "cell_type": "code",
   "execution_count": 814,
   "metadata": {},
   "outputs": [],
   "source": [
    "solution['Stay']=solution['Stay'].map({0:'0-10',1:'11-20',2:'21-30',\n",
    "                             3:'31-40',4:'41-50',5:'51-60',6:'61-70',7:'71-80',8:'81-90',9:'91-100',10:'More than 100 days'})"
   ]
  },
  {
   "cell_type": "code",
   "execution_count": 815,
   "metadata": {},
   "outputs": [],
   "source": [
    "solution.to_csv('RFCStay_sol3.csv', index=False)"
   ]
  },
  {
   "cell_type": "markdown",
   "metadata": {},
   "source": [
    "### Learning Curve"
   ]
  },
  {
   "cell_type": "code",
   "execution_count": 79,
   "metadata": {},
   "outputs": [],
   "source": [
    "from sklearn.model_selection import learning_curve\n",
    "from sklearn.model_selection import ShuffleSplit\n",
    "def plot_learning_curve(model,title, X, y,n_jobs = 1, ylim = None, cv = None,train_sizes = np.linspace(0.1, 1, 5)):\n",
    "    \n",
    "    # Figrue parameters\n",
    "    plt.figure(figsize=(10,8))\n",
    "    plt.title(title)\n",
    "    if ylim is not None:\n",
    "        plt.ylim(*ylim)\n",
    "    plt.xlabel('Training Examples')\n",
    "    plt.ylabel('Score')\n",
    "    \n",
    "    train_sizes, train_score, test_score = learning_curve(model, X, y, cv = cv, n_jobs=n_jobs, train_sizes=train_sizes)\n",
    "    # Calculate mean and std\n",
    "    train_score_mean = np.mean(train_score, axis=1)\n",
    "    train_score_std = np.std(train_score, axis=1)\n",
    "    test_score_mean = np.mean(test_score, axis=1)\n",
    "    test_score_std = np.std(test_score, axis=1)\n",
    "    \n",
    "    plt.grid()\n",
    "    plt.fill_between(train_sizes, train_score_mean - train_score_std, train_score_mean + train_score_std,\\\n",
    "                      alpha = 0.1, color = 'r')\n",
    "    plt.fill_between(train_sizes, test_score_mean - test_score_std, test_score_mean + test_score_std,\\\n",
    "                    alpha = 0.1, color = 'g')\n",
    "    plt.plot(train_sizes, train_score_mean, 'o-', color=\"r\", label=\"Training score\")\n",
    "    plt.plot(train_sizes, test_score_mean, 'o-', color=\"g\", label=\"Cross-validation score\")\n",
    "    \n",
    "    plt.legend(loc = \"best\")\n",
    "    return plt"
   ]
  },
  {
   "cell_type": "code",
   "execution_count": 80,
   "metadata": {},
   "outputs": [
    {
     "data": {
      "image/png": "[encoded data removed]",
      "text/plain": [
       "<Figure size 720x576 with 1 Axes>"
      ]
     },
     "metadata": {},
     "output_type": "display_data"
    }
   ],
   "source": [
    "# Plotting Learning Curve\n",
    "title = 'Learning Curve(Random Forest)'\n",
    "model = RFC\n",
    "cv = ShuffleSplit(n_splits=50, test_size=0.2,random_state=0)\n",
    "plot_learning_curve(model,title,X_train, y_train, n_jobs=-1,ylim=None,cv=cv)\n",
    "plt.show()"
   ]
  },
  {
   "cell_type": "markdown",
   "metadata": {},
   "source": [
    "## LGBMClassifier"
   ]
  },
  {
   "cell_type": "code",
   "execution_count": 762,
   "metadata": {},
   "outputs": [],
   "source": [
    "# Tuned the Hyperparameters of LighGBM Classifier :\n",
    "lgb_model = LGBMClassifier()"
   ]
  },
  {
   "cell_type": "code",
   "execution_count": 764,
   "metadata": {},
   "outputs": [
    {
     "name": "stdout",
     "output_type": "stream",
     "text": [
      "1\n",
      "1\n",
      "fold 0 accuracy 1.0\n",
      "1\n",
      "1\n",
      "fold 1 accuracy 1.0\n",
      "1\n",
      "1\n",
      "fold 2 accuracy 1.0\n",
      "1\n",
      "1\n",
      "fold 3 accuracy 1.0\n",
      "1\n",
      "1\n",
      "fold 4 accuracy 1.0\n",
      "Mean accuracy score 1.0\n"
     ]
    }
   ],
   "source": [
    "# Mention Categorical Values of the Light GBM Model to Handle :\n",
    "categorical_features = cols\n",
    "\n",
    "# Apply Stratified K-Fold Cross Validation where K=5 or n_splits=5 :\n",
    "kf = StratifiedKFold(n_splits=5,shuffle=True,random_state=10)\n",
    "acc = []\n",
    "\n",
    "# Pass predictor_train,target_train for Cross Validation :\n",
    "for fold,(t_id,v_id) in enumerate(kf.split(df1,train_y)):\n",
    "    \n",
    "    # Split train and validation data :\n",
    "    tx = df1.iloc[t_id]; ty = train_y.iloc[t_id]\n",
    "    vx = df1.iloc[v_id]; vy = train_y.iloc[v_id]\n",
    "    print(1)\n",
    "    # Train/Fit the Data to LighGBM Model :\n",
    "    lgb_model.fit(tx,ty, categorical_feature = categorical_features )\n",
    "    \n",
    "    # Predict the Validation Data to Train LighGBM Model :\n",
    "    val_y = lgb_model.predict(vx)\n",
    "    print(1)\n",
    "    # Get Accuracy Score on Validation Data for Each Fold :\n",
    "    acc_score = accuracy_score(vy,val_y)\n",
    "    acc.append(acc_score)\n",
    "    print(f\"fold {fold} accuracy {acc_score}\")\n",
    "\n",
    "# Get Mean of Accuracy Score on Validation Data for All 5 Folds :\n",
    "print(f\"Mean accuracy score {np.mean(acc)}\")"
   ]
  },
  {
   "cell_type": "code",
   "execution_count": 765,
   "metadata": {},
   "outputs": [],
   "source": [
    "def model_train_predict_submit( lgbClassifier,X_train, y_train, X_test):\n",
    "    \n",
    "    categorical_features = cols\n",
    "    lgbClassifier.fit( X_train, y_train , categorical_feature = categorical_features )\n",
    "    y_predictions = lgbClassifier.predict( X_test )\n",
    "     \n",
    "   \n",
    "    solution_1 = pd.DataFrame({'case_id': test_file['case_id'], 'Stay' : y_predictions})\n",
    "    solution_1['Stay'] = solution_1['Stay'].astype(int)\n",
    "    solution_1[ 'Stay' ]=solution_1[ 'Stay' ].map({0:'0-10',\n",
    "                                                              1:'11-20',2:'21-30',\n",
    "                                                              3:'31-40',4:'41-50',\n",
    "                                                              5:'51-60',6:'61-70',7:'71-80',8:'81-90',\n",
    "                                                              9:'91-100',10:'More than 100 Days'})\n",
    "   \n",
    "    solution_1.to_csv(\"LGBMsubmission2.csv\",index=False)\n",
    "    return solution_1\n",
    "\n",
    "\n",
    "model_classifier = lgb_model\n",
    "sub = model_train_predict_submit( model_classifier,df1,train_y, test)"
   ]
  },
  {
   "cell_type": "code",
   "execution_count": 674,
   "metadata": {},
   "outputs": [
    {
     "data": {
      "text/plain": [
       "Hospital_code                        0\n",
       "Hospital_type_code                   0\n",
       "City_Code_Hospital                   0\n",
       "Hospital_region_code                 0\n",
       "Available Extra Rooms in Hospital    0\n",
       "Department                           0\n",
       "Ward_Type                            0\n",
       "Ward_Facility_Code                   0\n",
       "Bed Grade                            0\n",
       "City_Code_Patient                    0\n",
       "Type of Admission                    0\n",
       "Severity of Illness                  0\n",
       "Visitors with Patient                0\n",
       "Age                                  0\n",
       "Admission_Deposit                    0\n",
       "dtype: int64"
      ]
     },
     "execution_count": 674,
     "metadata": {},
     "output_type": "execute_result"
    }
   ],
   "source": []
  },
  {
   "cell_type": "code",
   "execution_count": null,
   "metadata": {},
   "outputs": [],
   "source": []
  }
 ],
 "metadata": {
  "kernelspec": {
   "display_name": "Python 3",
   "language": "python",
   "name": "python3"
  },
  "language_info": {
   "codemirror_mode": {
    "name": "ipython",
    "version": 3
   },
   "file_extension": ".py",
   "mimetype": "text/x-python",
   "name": "python",
   "nbconvert_exporter": "python",
   "pygments_lexer": "ipython3",
   "version": "3.8.3"
  }
 },
 "nbformat": 4,
 "nbformat_minor": 2
}
