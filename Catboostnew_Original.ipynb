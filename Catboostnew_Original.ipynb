{
 "cells": [
  {
   "cell_type": "code",
   "execution_count": 1,
   "metadata": {},
   "outputs": [
    {
     "name": "stdout",
     "output_type": "stream",
     "text": [
      "Requirement already satisfied: lightgbm in c:\\users\\dhany\\anaconda3\\lib\\site-packages (3.0.0)Note: you may need to restart the kernel to use updated packages.\n",
      "Requirement already satisfied: numpy in c:\\users\\dhany\\anaconda3\\lib\\site-packages (from lightgbm) (1.18.5)\n",
      "Requirement already satisfied: scikit-learn!=0.22.0 in c:\\users\\dhany\\anaconda3\\lib\\site-packages (from lightgbm) (0.23.1)\n",
      "Requirement already satisfied: scipy in c:\\users\\dhany\\anaconda3\\lib\\site-packages (from lightgbm) (1.4.1)\n",
      "Requirement already satisfied: joblib>=0.11 in c:\\users\\dhany\\anaconda3\\lib\\site-packages (from scikit-learn!=0.22.0->lightgbm) (0.16.0)\n",
      "Requirement already satisfied: threadpoolctl>=2.0.0 in c:\\users\\dhany\\anaconda3\\lib\\site-packages (from scikit-learn!=0.22.0->lightgbm) (2.1.0)\n",
      "\n"
     ]
    }
   ],
   "source": [
    "pip install lightgbm"
   ]
  },
  {
   "cell_type": "code",
   "execution_count": 2,
   "metadata": {},
   "outputs": [
    {
     "name": "stdout",
     "output_type": "stream",
     "text": [
      "Requirement already satisfied: catboost in c:\\users\\dhany\\anaconda3\\lib\\site-packages (0.24.1)Note: you may need to restart the kernel to use updated packages.\n",
      "Requirement already satisfied: graphviz in c:\\users\\dhany\\anaconda3\\lib\\site-packages (from catboost) (0.14.1)\n",
      "Requirement already satisfied: numpy>=1.16.0 in c:\\users\\dhany\\anaconda3\\lib\\site-packages (from catboost) (1.18.5)\n",
      "Requirement already satisfied: scipy in c:\\users\\dhany\\anaconda3\\lib\\site-packages (from catboost) (1.4.1)\n",
      "Requirement already satisfied: pandas>=0.24.0 in c:\\users\\dhany\\anaconda3\\lib\\site-packages (from catboost) (1.0.5)\n",
      "Requirement already satisfied: six in c:\\users\\dhany\\anaconda3\\lib\\site-packages (from catboost) (1.15.0)\n",
      "Requirement already satisfied: matplotlib in c:\\users\\dhany\\anaconda3\\lib\\site-packages (from catboost) (3.2.2)\n",
      "Requirement already satisfied: plotly in c:\\users\\dhany\\anaconda3\\lib\\site-packages (from catboost) (4.9.0)\n",
      "Requirement already satisfied: pytz>=2017.2 in c:\\users\\dhany\\anaconda3\\lib\\site-packages (from pandas>=0.24.0->catboost) (2020.1)\n",
      "Requirement already satisfied: python-dateutil>=2.6.1 in c:\\users\\dhany\\anaconda3\\lib\\site-packages (from pandas>=0.24.0->catboost) (2.8.1)\n",
      "Requirement already satisfied: kiwisolver>=1.0.1 in c:\\users\\dhany\\anaconda3\\lib\\site-packages (from matplotlib->catboost) (1.2.0)\n",
      "Requirement already satisfied: pyparsing!=2.0.4,!=2.1.2,!=2.1.6,>=2.0.1 in c:\\users\\dhany\\anaconda3\\lib\\site-packages (from matplotlib->catboost) (2.4.7)\n",
      "Requirement already satisfied: cycler>=0.10 in c:\\users\\dhany\\anaconda3\\lib\\site-packages (from matplotlib->catboost) (0.10.0)\n",
      "Requirement already satisfied: retrying>=1.3.3 in c:\\users\\dhany\\anaconda3\\lib\\site-packages (from plotly->catboost) (1.3.3)\n",
      "\n"
     ]
    }
   ],
   "source": [
    "pip install catboost"
   ]
  },
  {
   "cell_type": "code",
   "execution_count": 3,
   "metadata": {},
   "outputs": [],
   "source": [
    "from mpl_toolkits.mplot3d import Axes3D\n",
    "from sklearn.preprocessing import StandardScaler\n",
    "import matplotlib.pyplot as plt # plotting\n",
    "from sklearn.model_selection import train_test_split\n",
    "import numpy as np # linear algebra\n",
    "import os # accessing directory structure\n",
    "import pandas as pd # data processing, CSV file I/O (e.g. pd.read_csv)\n",
    "from lightgbm import LGBMClassifier\n",
    "import seaborn as sns\n",
    "%matplotlib inline\n",
    "from sklearn.model_selection import StratifiedKFold,KFold\n",
    "# Restrict minor warnings\n",
    "import warnings\n",
    "from catboost import CatBoostClassifier, Pool\n",
    "warnings.filterwarnings('ignore')\n",
    "import seaborn as sns; sns.set()"
   ]
  },
  {
   "cell_type": "code",
   "execution_count": 4,
   "metadata": {},
   "outputs": [],
   "source": [
    "train_x = pd.read_csv(\"train.csv\")\n",
    "test_x = pd.read_csv(\"test.csv\")"
   ]
  },
  {
   "cell_type": "code",
   "execution_count": 5,
   "metadata": {},
   "outputs": [
    {
     "data": {
      "text/plain": [
       "case_id                              318438\n",
       "Hospital_code                            32\n",
       "Hospital_type_code                        7\n",
       "City_Code_Hospital                       11\n",
       "Hospital_region_code                      3\n",
       "Available Extra Rooms in Hospital        18\n",
       "Department                                5\n",
       "Ward_Type                                 6\n",
       "Ward_Facility_Code                        6\n",
       "Bed Grade                                 4\n",
       "patientid                             92017\n",
       "City_Code_Patient                        37\n",
       "Type of Admission                         3\n",
       "Severity of Illness                       3\n",
       "Visitors with Patient                    28\n",
       "Age                                      10\n",
       "Admission_Deposit                      7300\n",
       "Stay                                     11\n",
       "dtype: int64"
      ]
     },
     "execution_count": 5,
     "metadata": {},
     "output_type": "execute_result"
    }
   ],
   "source": [
    "train_x.nunique()"
   ]
  },
  {
   "cell_type": "markdown",
   "metadata": {},
   "source": [
    "# Label Encoding the columns and mapping it into new values"
   ]
  },
  {
   "cell_type": "code",
   "execution_count": 6,
   "metadata": {},
   "outputs": [],
   "source": [
    "cols = ['Hospital_type_code','City_Code_Hospital',\n",
    "       'Hospital_region_code'\n",
    "       ,'Department'\n",
    "       ,'Ward_Type',\n",
    "       'Ward_Facility_Code',\n",
    "       'Bed Grade','Type of Admission','Severity of Illness','Age']"
   ]
  },
  {
   "cell_type": "code",
   "execution_count": 7,
   "metadata": {},
   "outputs": [],
   "source": [
    "from sklearn.preprocessing import LabelEncoder\n",
    "for i in cols:\n",
    "    le = LabelEncoder()\n",
    "    train_x[i] = le.fit_transform(train_x[i].astype('str'))\n",
    "    le = LabelEncoder()\n",
    "    test_x[i] = le.fit_transform(test_x[i].astype('str'))"
   ]
  },
  {
   "cell_type": "code",
   "execution_count": 8,
   "metadata": {},
   "outputs": [],
   "source": [
    "le = LabelEncoder()\n",
    "train_x['Stay'] =  le.fit_transform(train_x['Stay'])"
   ]
  },
  {
   "cell_type": "code",
   "execution_count": 9,
   "metadata": {},
   "outputs": [],
   "source": [
    "X_train = train_x.drop(['Stay', 'case_id', 'patientid'],axis=1)\n",
    "y_train = train_x['Stay']\n",
    "X_test =  test_x.drop(['case_id', 'patientid'],axis=1)"
   ]
  },
  {
   "cell_type": "code",
   "execution_count": 10,
   "metadata": {},
   "outputs": [],
   "source": [
    "X_train.head()\n",
    "X_train['City_Code_Hospital'].fillna('40', inplace = True)\n",
    "X_test['City_Code_Hospital'].fillna('40', inplace = True)\n",
    "X_train['Bed Grade'].fillna('5', inplace = True)\n",
    "X_test['Bed Grade'].fillna('5', inplace = True)"
   ]
  },
  {
   "cell_type": "markdown",
   "metadata": {},
   "source": [
    "# Modeling"
   ]
  },
  {
   "cell_type": "code",
   "execution_count": 11,
   "metadata": {},
   "outputs": [],
   "source": [
    "#Class imbalance\n",
    "#from sklearn.utils import class_weight\n",
    "#cw = list(class_weight.compute_class_weight('balanced',\n",
    "#                                             np.unique(y_train),\n",
    "#                                            y_train))"
   ]
  },
  {
   "cell_type": "code",
   "execution_count": 18,
   "metadata": {},
   "outputs": [
    {
     "name": "stdout",
     "output_type": "stream",
     "text": [
      "Learning rate set to 0.5\n",
      "0:\tlearn: 1.8583951\ttotal: 4.17s\tremaining: 3m 24s\n",
      "1:\tlearn: 1.7531697\ttotal: 7.86s\tremaining: 3m 8s\n",
      "2:\tlearn: 1.6636860\ttotal: 11.7s\tremaining: 3m 3s\n",
      "3:\tlearn: 1.6206351\ttotal: 15.6s\tremaining: 2m 59s\n",
      "4:\tlearn: 1.6049457\ttotal: 19.6s\tremaining: 2m 56s\n",
      "5:\tlearn: 1.5841984\ttotal: 23.6s\tremaining: 2m 52s\n",
      "6:\tlearn: 1.5739690\ttotal: 27.4s\tremaining: 2m 48s\n",
      "7:\tlearn: 1.5663220\ttotal: 31.2s\tremaining: 2m 43s\n",
      "8:\tlearn: 1.5600948\ttotal: 35s\tremaining: 2m 39s\n",
      "9:\tlearn: 1.5546858\ttotal: 39s\tremaining: 2m 35s\n",
      "10:\tlearn: 1.5507206\ttotal: 42.8s\tremaining: 2m 31s\n",
      "11:\tlearn: 1.5466889\ttotal: 46.7s\tremaining: 2m 27s\n",
      "12:\tlearn: 1.5449998\ttotal: 50.5s\tremaining: 2m 23s\n",
      "13:\tlearn: 1.5420040\ttotal: 54.4s\tremaining: 2m 19s\n",
      "14:\tlearn: 1.5395443\ttotal: 58.3s\tremaining: 2m 15s\n",
      "15:\tlearn: 1.5353442\ttotal: 1m 2s\tremaining: 2m 12s\n",
      "16:\tlearn: 1.5337774\ttotal: 1m 6s\tremaining: 2m 8s\n",
      "17:\tlearn: 1.5332758\ttotal: 1m 10s\tremaining: 2m 4s\n",
      "18:\tlearn: 1.5319328\ttotal: 1m 14s\tremaining: 2m 1s\n",
      "19:\tlearn: 1.5316752\ttotal: 1m 18s\tremaining: 1m 57s\n",
      "20:\tlearn: 1.5315464\ttotal: 1m 23s\tremaining: 1m 55s\n",
      "21:\tlearn: 1.5293539\ttotal: 1m 28s\tremaining: 1m 52s\n",
      "22:\tlearn: 1.5270358\ttotal: 1m 32s\tremaining: 1m 48s\n",
      "23:\tlearn: 1.5258763\ttotal: 1m 36s\tremaining: 1m 44s\n",
      "24:\tlearn: 1.5244523\ttotal: 1m 40s\tremaining: 1m 40s\n",
      "25:\tlearn: 1.5228562\ttotal: 1m 44s\tremaining: 1m 36s\n",
      "26:\tlearn: 1.5216660\ttotal: 1m 48s\tremaining: 1m 32s\n",
      "27:\tlearn: 1.5183805\ttotal: 1m 53s\tremaining: 1m 28s\n",
      "28:\tlearn: 1.5164768\ttotal: 1m 57s\tremaining: 1m 24s\n",
      "29:\tlearn: 1.5149306\ttotal: 2m 1s\tremaining: 1m 20s\n",
      "30:\tlearn: 1.5122302\ttotal: 2m 5s\tremaining: 1m 16s\n",
      "31:\tlearn: 1.5088506\ttotal: 2m 9s\tremaining: 1m 12s\n",
      "32:\tlearn: 1.5068998\ttotal: 2m 14s\tremaining: 1m 9s\n",
      "33:\tlearn: 1.5057347\ttotal: 2m 19s\tremaining: 1m 5s\n",
      "34:\tlearn: 1.5044010\ttotal: 2m 24s\tremaining: 1m 2s\n",
      "35:\tlearn: 1.5034435\ttotal: 2m 30s\tremaining: 58.5s\n",
      "36:\tlearn: 1.5026091\ttotal: 2m 36s\tremaining: 54.9s\n",
      "37:\tlearn: 1.5016601\ttotal: 2m 41s\tremaining: 51s\n",
      "38:\tlearn: 1.5007145\ttotal: 2m 47s\tremaining: 47.2s\n",
      "39:\tlearn: 1.4993197\ttotal: 2m 53s\tremaining: 43.4s\n",
      "40:\tlearn: 1.4984676\ttotal: 2m 59s\tremaining: 39.5s\n",
      "41:\tlearn: 1.4980740\ttotal: 3m 5s\tremaining: 35.4s\n",
      "42:\tlearn: 1.4967115\ttotal: 3m 11s\tremaining: 31.2s\n",
      "43:\tlearn: 1.4962753\ttotal: 3m 17s\tremaining: 26.9s\n",
      "44:\tlearn: 1.4951351\ttotal: 3m 23s\tremaining: 22.6s\n",
      "45:\tlearn: 1.4949859\ttotal: 3m 28s\tremaining: 18.2s\n",
      "46:\tlearn: 1.4941776\ttotal: 3m 34s\tremaining: 13.7s\n",
      "47:\tlearn: 1.4931617\ttotal: 3m 39s\tremaining: 9.16s\n",
      "48:\tlearn: 1.4920859\ttotal: 3m 46s\tremaining: 4.63s\n",
      "49:\tlearn: 1.4913443\ttotal: 3m 53s\tremaining: 0us\n"
     ]
    },
    {
     "data": {
      "text/plain": [
       "<catboost.core.CatBoostClassifier at 0x1df59647f40>"
      ]
     },
     "execution_count": 18,
     "metadata": {},
     "output_type": "execute_result"
    }
   ],
   "source": [
    "# Mention Categorical Values for catboost Model to Handle :\n",
    "categorical_features = cols\n",
    "X_data, x_test_data, y_data, y_test_data = train_test_split(X_train, y_train, test_size = 0.3)\n",
    "#Increased the number of iterations to improve the accuracy\n",
    "model = CatBoostClassifier(iterations=50, )\n",
    "model.fit(X_data, y_data, cols)\n",
    "\n"
   ]
  },
  {
   "cell_type": "code",
   "execution_count": 19,
   "metadata": {},
   "outputs": [
    {
     "name": "stdout",
     "output_type": "stream",
     "text": [
      "              precision    recall  f1-score   support\n",
      "\n",
      "      class1       0.41      0.14      0.21      7095\n",
      "      class2       0.43      0.50      0.46     23430\n",
      "      class3       0.42      0.66      0.51     26103\n",
      "      class4       0.41      0.22      0.29     16654\n",
      "      class5       0.15      0.00      0.00      3450\n",
      "      class6       0.40      0.50      0.45     10503\n",
      "      class7       0.00      0.00      0.00       841\n",
      "      class8       0.35      0.01      0.03      3155\n",
      "      class9       0.34      0.17      0.23      1447\n",
      "     class10       0.29      0.00      0.00       851\n",
      "     class11       0.51      0.42      0.46      2003\n",
      "\n",
      "    accuracy                           0.42     95532\n",
      "   macro avg       0.34      0.24      0.24     95532\n",
      "weighted avg       0.40      0.42      0.38     95532\n",
      "\n"
     ]
    }
   ],
   "source": [
    "from sklearn.metrics import classification_report\n",
    "Y_val_pred = model.predict(x_test_data)\n",
    "target = ['class1', 'class2','class3','class4','class5','class6','class7','class8', 'class9', 'class10','class11' ]\n",
    "print (classification_report(y_test_data, Y_val_pred, target_names=target))"
   ]
  },
  {
   "cell_type": "code",
   "execution_count": 20,
   "metadata": {},
   "outputs": [
    {
     "name": "stdout",
     "output_type": "stream",
     "text": [
      "Learning rate set to 0.5\n",
      "0:\tlearn: 1.8480776\ttotal: 5.29s\tremaining: 4m 19s\n",
      "1:\tlearn: 1.7516937\ttotal: 11.3s\tremaining: 4m 30s\n",
      "2:\tlearn: 1.6893851\ttotal: 18s\tremaining: 4m 42s\n",
      "3:\tlearn: 1.6344438\ttotal: 25.1s\tremaining: 4m 48s\n",
      "4:\tlearn: 1.6026584\ttotal: 32.7s\tremaining: 4m 54s\n",
      "5:\tlearn: 1.5854128\ttotal: 40.3s\tremaining: 4m 55s\n",
      "6:\tlearn: 1.5762173\ttotal: 48.1s\tremaining: 4m 55s\n",
      "7:\tlearn: 1.5714055\ttotal: 56.1s\tremaining: 4m 54s\n",
      "8:\tlearn: 1.5653971\ttotal: 1m 3s\tremaining: 4m 51s\n",
      "9:\tlearn: 1.5594057\ttotal: 1m 13s\tremaining: 4m 53s\n",
      "10:\tlearn: 1.5577521\ttotal: 1m 21s\tremaining: 4m 49s\n",
      "11:\tlearn: 1.5530065\ttotal: 1m 30s\tremaining: 4m 45s\n",
      "12:\tlearn: 1.5493037\ttotal: 1m 38s\tremaining: 4m 39s\n",
      "13:\tlearn: 1.5469488\ttotal: 1m 46s\tremaining: 4m 33s\n",
      "14:\tlearn: 1.5443978\ttotal: 1m 56s\tremaining: 4m 30s\n",
      "15:\tlearn: 1.5404560\ttotal: 2m 5s\tremaining: 4m 26s\n",
      "16:\tlearn: 1.5391559\ttotal: 2m 14s\tremaining: 4m 20s\n",
      "17:\tlearn: 1.5329025\ttotal: 2m 23s\tremaining: 4m 14s\n",
      "18:\tlearn: 1.5307660\ttotal: 2m 33s\tremaining: 4m 9s\n",
      "19:\tlearn: 1.5293949\ttotal: 2m 43s\tremaining: 4m 5s\n",
      "20:\tlearn: 1.5288268\ttotal: 2m 53s\tremaining: 3m 59s\n",
      "21:\tlearn: 1.5286743\ttotal: 3m 2s\tremaining: 3m 52s\n",
      "22:\tlearn: 1.5285120\ttotal: 3m 10s\tremaining: 3m 44s\n",
      "23:\tlearn: 1.5271714\ttotal: 3m 20s\tremaining: 3m 36s\n",
      "24:\tlearn: 1.5267628\ttotal: 3m 29s\tremaining: 3m 29s\n",
      "25:\tlearn: 1.5246633\ttotal: 3m 37s\tremaining: 3m 20s\n",
      "26:\tlearn: 1.5228765\ttotal: 3m 45s\tremaining: 3m 12s\n",
      "27:\tlearn: 1.5196664\ttotal: 3m 55s\tremaining: 3m 5s\n",
      "28:\tlearn: 1.5185163\ttotal: 4m 6s\tremaining: 2m 58s\n",
      "29:\tlearn: 1.5171781\ttotal: 4m 14s\tremaining: 2m 49s\n",
      "30:\tlearn: 1.5148802\ttotal: 4m 22s\tremaining: 2m 41s\n",
      "31:\tlearn: 1.5133026\ttotal: 4m 31s\tremaining: 2m 32s\n",
      "32:\tlearn: 1.5125138\ttotal: 4m 39s\tremaining: 2m 23s\n",
      "33:\tlearn: 1.5114026\ttotal: 4m 47s\tremaining: 2m 15s\n",
      "34:\tlearn: 1.5099628\ttotal: 4m 56s\tremaining: 2m 6s\n",
      "35:\tlearn: 1.5090688\ttotal: 5m 4s\tremaining: 1m 58s\n",
      "36:\tlearn: 1.5073933\ttotal: 5m 12s\tremaining: 1m 49s\n",
      "37:\tlearn: 1.5061820\ttotal: 5m 20s\tremaining: 1m 41s\n",
      "38:\tlearn: 1.5054174\ttotal: 5m 28s\tremaining: 1m 32s\n",
      "39:\tlearn: 1.5044838\ttotal: 5m 37s\tremaining: 1m 24s\n",
      "40:\tlearn: 1.5033441\ttotal: 5m 47s\tremaining: 1m 16s\n",
      "41:\tlearn: 1.5028308\ttotal: 5m 56s\tremaining: 1m 7s\n",
      "42:\tlearn: 1.5023102\ttotal: 6m 4s\tremaining: 59.3s\n",
      "43:\tlearn: 1.5019646\ttotal: 6m 13s\tremaining: 50.9s\n",
      "44:\tlearn: 1.5008861\ttotal: 6m 21s\tremaining: 42.4s\n",
      "45:\tlearn: 1.5005859\ttotal: 6m 30s\tremaining: 34s\n",
      "46:\tlearn: 1.4998534\ttotal: 6m 39s\tremaining: 25.5s\n",
      "47:\tlearn: 1.4993814\ttotal: 6m 47s\tremaining: 17s\n",
      "48:\tlearn: 1.4981503\ttotal: 6m 56s\tremaining: 8.49s\n",
      "49:\tlearn: 1.4979602\ttotal: 7m 5s\tremaining: 0us\n"
     ]
    }
   ],
   "source": [
    "model.fit(X_train, y_train, cols)\n",
    "Y = model.predict(X_test)"
   ]
  },
  {
   "cell_type": "code",
   "execution_count": 21,
   "metadata": {},
   "outputs": [],
   "source": [
    "Y= Y.flatten()"
   ]
  },
  {
   "cell_type": "code",
   "execution_count": 22,
   "metadata": {},
   "outputs": [],
   "source": [
    "test_submission = pd.read_csv(\"test.csv\")\n",
    "solution = pd.DataFrame({'case_id':test_submission.case_id, 'Stay':Y}, columns = ['case_id','Stay'])\n",
    "solution['Stay']=solution['Stay'].map({0:'0-10',1:'11-20',2:'21-30',\n",
    "                             3:'31-40',4:'41-50',5:'51-60',6:'61-70',7:'71-80',8:'81-90',9:'91-100',10:'More than 100 days'})\n",
    "solution.to_csv('catboostStay_sol_best.csv', index=False)"
   ]
  },
  {
   "cell_type": "code",
   "execution_count": null,
   "metadata": {},
   "outputs": [],
   "source": []
  }
 ],
 "metadata": {
  "kernelspec": {
   "display_name": "Python 3",
   "language": "python",
   "name": "python3"
  },
  "language_info": {
   "codemirror_mode": {
    "name": "ipython",
    "version": 3
   },
   "file_extension": ".py",
   "mimetype": "text/x-python",
   "name": "python",
   "nbconvert_exporter": "python",
   "pygments_lexer": "ipython3",
   "version": "3.8.3"
  }
 },
 "nbformat": 4,
 "nbformat_minor": 4
}
